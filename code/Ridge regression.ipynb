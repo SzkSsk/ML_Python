{
 "cells": [
  {
   "cell_type": "code",
   "execution_count": 1,
   "metadata": {},
   "outputs": [
    {
     "name": "stdout",
     "output_type": "stream",
     "text": [
      "リッジ回帰\n",
      "\n",
      "訓練データ、交差検証データ、テストデータの数 = 303 101 102\n",
      "\n"
     ]
    }
   ],
   "source": [
    "import numpy as np\n",
    "import matplotlib.pyplot as plt\n",
    "\n",
    "from sklearn.datasets import load_boston\n",
    "from sklearn.model_selection import train_test_split\n",
    "from sklearn.preprocessing import StandardScaler\n",
    "from sklearn.linear_model import Ridge\n",
    "from sklearn.model_selection import GridSearchCV\n",
    "\n",
    "# データの読み込み\n",
    "boston = load_boston()\n",
    "\n",
    "# 訓練データ、テストデータに分割\n",
    "X, Xtest, y, ytest = train_test_split(boston['data'], boston['target'], test_size=0.2, random_state=114514)\n",
    "# 6:2:2に分割にするため、訓練データのうちの後ろ1/4を交差検証データとする\n",
    "# 交差検証データのジェネレーター\n",
    "def gen_cv():\n",
    "    m_train = np.floor(len(y)*0.75).astype(int)#このキャストをintにしないと後にハマる\n",
    "    train_indices = np.arange(m_train)\n",
    "    test_indices = np.arange(m_train, len(y))\n",
    "    yield (train_indices, test_indices)\n",
    "# (それぞれ303 101 102 = サンプル合計は506)\n",
    "print(\"リッジ回帰\")\n",
    "print()\n",
    "print(\"訓練データ、交差検証データ、テストデータの数 = \", end=\"\")\n",
    "print(len(next(gen_cv())[0]), len(next(gen_cv())[1]), len(ytest) )\n",
    "print()"
   ]
  },
  {
   "cell_type": "code",
   "execution_count": 2,
   "metadata": {},
   "outputs": [],
   "source": [
    "# 訓練データを基準に標準化（平均、標準偏差で標準化）\n",
    "scaler = StandardScaler()\n",
    "X_norm = scaler.fit_transform(X)\n",
    "# テストデータも標準化\n",
    "Xtest_norm = scaler.transform(Xtest)"
   ]
  },
  {
   "cell_type": "code",
   "execution_count": 3,
   "metadata": {},
   "outputs": [
    {
     "name": "stdout",
     "output_type": "stream",
     "text": [
      "αのチューニング\n",
      "最適なパラメーター = {'alpha': 149.2495545051829} 精度 = 0.690669026120447\n",
      "\n"
     ]
    }
   ],
   "source": [
    "# ハイパーパラメータのチューニング\n",
    "params = {\"alpha\":np.logspace(-2, 4, 24)}\n",
    "gridsearch = GridSearchCV(Ridge(), params, cv=gen_cv(), scoring=\"r2\", return_train_score=True)\n",
    "gridsearch.fit(X_norm, y)\n",
    "print(\"αのチューニング\")\n",
    "print(\"最適なパラメーター =\", gridsearch.best_params_, \"精度 =\", gridsearch.best_score_)\n",
    "print()"
   ]
  },
  {
   "cell_type": "code",
   "execution_count": 4,
   "metadata": {},
   "outputs": [
    {
     "data": {
      "image/png": "[encoded data removed]",
      "text/plain": [
       "<Figure size 432x288 with 1 Axes>"
      ]
     },
     "metadata": {
      "needs_background": "light"
     },
     "output_type": "display_data"
    }
   ],
   "source": [
    "# 検証曲線\n",
    "plt.semilogx(params[\"alpha\"], gridsearch.cv_results_[\"mean_train_score\"], label=\"Training\")\n",
    "plt.semilogx(params[\"alpha\"], gridsearch.cv_results_[\"mean_test_score\"], label=\"Cross Validation\")\n",
    "plt.xlabel(\"alpha\")\n",
    "plt.ylabel(\"R2 Score\")\n",
    "plt.title(\"Validation curve / Linear Regression\")\n",
    "plt.legend()\n",
    "plt.show()"
   ]
  },
  {
   "cell_type": "code",
   "execution_count": 5,
   "metadata": {},
   "outputs": [
    {
     "name": "stdout",
     "output_type": "stream",
     "text": [
      "切片と係数\n",
      "22.893123943264357\n",
      "[-0.46861415  0.51249514 -0.34423964  0.94872619 -0.55980061  2.44810234\n",
      " -0.08502659 -1.08996542  0.48912441 -0.35540356 -1.38785068  0.60844346\n",
      " -2.86197237]\n",
      "\n",
      "テストデータにフィット\n",
      "テストデータの精度 = 0.7713515272238125\n",
      "\n",
      "※参考\n",
      "訓練データの精度 = 0.6666027990264252\n",
      "交差検証データの精度 = 0.690669026120447\n"
     ]
    }
   ],
   "source": [
    "# チューニングしたαでフィット\n",
    "regr = Ridge(alpha=gridsearch.best_params_[\"alpha\"])\n",
    "train_indices = next(gen_cv())[0]\n",
    "valid_indices = next(gen_cv())[1]\n",
    "regr.fit(X_norm[train_indices, :], y[train_indices])\n",
    "print(\"切片と係数\")\n",
    "print(regr.intercept_)\n",
    "print(regr.coef_)\n",
    "print()\n",
    "# テストデータの精度を計算\n",
    "print(\"テストデータにフィット\")\n",
    "print(\"テストデータの精度 =\", regr.score(Xtest_norm, ytest))\n",
    "print()\n",
    "print(\"※参考\")\n",
    "print(\"訓練データの精度 =\", regr.score(X_norm[train_indices, :], y[train_indices]))\n",
    "print(\"交差検証データの精度 =\", regr.score(X_norm[valid_indices, :], y[valid_indices]))"
   ]
  },
  {
   "cell_type": "code",
   "execution_count": null,
   "metadata": {},
   "outputs": [],
   "source": []
  }
 ],
 "metadata": {
  "kernelspec": {
   "display_name": "Python 3",
   "language": "python",
   "name": "python3"
  },
  "language_info": {
   "codemirror_mode": {
    "name": "ipython",
    "version": 3
   },
   "file_extension": ".py",
   "mimetype": "text/x-python",
   "name": "python",
   "nbconvert_exporter": "python",
   "pygments_lexer": "ipython3",
   "version": "3.7.3"
  }
 },
 "nbformat": 4,
 "nbformat_minor": 2
}
