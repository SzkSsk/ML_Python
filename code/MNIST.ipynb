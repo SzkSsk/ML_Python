{
 "cells": [
  {
   "cell_type": "code",
   "execution_count": 1,
   "metadata": {},
   "outputs": [],
   "source": [
    "from sklearn.datasets import fetch_openml\n",
    "import matplotlib.pyplot as plt\n",
    "from sklearn.model_selection import train_test_split\n",
    "from sklearn.neural_network import MLPClassifier"
   ]
  },
  {
   "cell_type": "code",
   "execution_count": 2,
   "metadata": {},
   "outputs": [],
   "source": [
    "X, y = fetch_openml('mnist_784', version=1, return_X_y=True)"
   ]
  },
  {
   "cell_type": "code",
   "execution_count": 3,
   "metadata": {},
   "outputs": [
    {
     "data": {
      "text/plain": [
       "(70000, 784)"
      ]
     },
     "execution_count": 3,
     "metadata": {},
     "output_type": "execute_result"
    }
   ],
   "source": [
    "X.shape"
   ]
  },
  {
   "cell_type": "code",
   "execution_count": 4,
   "metadata": {},
   "outputs": [
    {
     "data": {
      "text/plain": [
       "(70000,)"
      ]
     },
     "execution_count": 4,
     "metadata": {},
     "output_type": "execute_result"
    }
   ],
   "source": [
    "y.shape"
   ]
  },
  {
   "cell_type": "code",
   "execution_count": 5,
   "metadata": {},
   "outputs": [],
   "source": [
    "X_train,X_test,y_train,y_test=train_test_split(X/255,\n",
    "                                              y.astype('int64'),\n",
    "                                              stratify = y,\n",
    "                                              random_state=0)"
   ]
  },
  {
   "cell_type": "code",
   "execution_count": 6,
   "metadata": {},
   "outputs": [
    {
     "data": {
      "text/plain": [
       "MLPClassifier(activation='relu', alpha=0.0001, batch_size='auto', beta_1=0.9,\n",
       "              beta_2=0.999, early_stopping=False, epsilon=1e-08,\n",
       "              hidden_layer_sizes=(100,), learning_rate='constant',\n",
       "              learning_rate_init=0.001, max_iter=200, momentum=0.9,\n",
       "              n_iter_no_change=10, nesterovs_momentum=True, power_t=0.5,\n",
       "              random_state=None, shuffle=True, solver='adam', tol=0.0001,\n",
       "              validation_fraction=0.1, verbose=False, warm_start=False)"
      ]
     },
     "execution_count": 6,
     "metadata": {},
     "output_type": "execute_result"
    }
   ],
   "source": [
    "clf=MLPClassifier(hidden_layer_sizes=(100, ), #隠れ層のノード数\n",
    "                  activation='relu', #活性化関数(identify,logistic,tanh,relu)\n",
    "                  solver='adam', #最適化手法(lbfgs, sgd, adam)\n",
    "                  alpha=0.0001, #L2ペナルティ（正則化の項）\n",
    "                  batch_size='auto', #最適化のバッチサイズ(sgd、adam,lbfgs)\n",
    "                  learning_rate='constant', #重み更新のための学習率スケジュール（’constant’、 ‘invscaling’、 ‘adaptive’）\n",
    "                  learning_rate_init=0.001, #\n",
    "                  power_t=0.5, #スケーリング学習率の指数\n",
    "                  max_iter=200, #反復の最大回数\n",
    "                  shuffle=True, #反復する度にサンプルをシャッフルするか（solverが’sgd’か’adam’の時に使用,'bool','optional')\n",
    "                  random_state=None, #乱数生成の状態 or シード（int、RandomState）\n",
    "                  tol=0.0001, #最適化の許容誤差\n",
    "                  verbose=False, #進捗メッセージを標準出力するかどうか\n",
    "                  warm_start=False, #以前の呼び出しの解を再利用して初期化するかどうか\n",
    "                  momentum=0.9, #勾配降下更新のモメンタム\n",
    "                  nesterovs_momentum=True, #訓練データの10％が妥当性検査として自動設定され、2つの連続したエポックで少なくとも妥当性スコアが改善していない場合は訓練終了（solver = ‘sgd’または ‘adam’で有効）\n",
    "                  early_stopping=False, #検証スコアが改善されていないとき訓練中止のために早期停止を使用するかどうか\n",
    "                  validation_fraction=0.1, #早期停止のための妥当性確認として設定される訓練データの割合\n",
    "                  beta_1=0.9, #adamの第1モーメントベクトルの推定値に対する指数関数的減衰率\n",
    "                  beta_2=0.999, #adamの第2モーメントベクトルの推定値に対する指数関数的減衰率\n",
    "                  epsilon=1e-08, #adamの数値安定性の値(solver = ‘adam’で使用)\n",
    "                  n_iter_no_change=10 #改善できない最大エポック数(solver=’sgd’ or ‘adam’で使用)\n",
    "                 )\n",
    "clf.fit(X_train,y_train)"
   ]
  },
  {
   "cell_type": "code",
   "execution_count": 7,
   "metadata": {},
   "outputs": [
    {
     "name": "stdout",
     "output_type": "stream",
     "text": [
      "accuracy_score: 0.977\n"
     ]
    }
   ],
   "source": [
    "print('accuracy_score: %.3f' % clf.score(X_test, y_test))"
   ]
  },
  {
   "cell_type": "code",
   "execution_count": null,
   "metadata": {},
   "outputs": [],
   "source": []
  }
 ],
 "metadata": {
  "kernelspec": {
   "display_name": "Python 3",
   "language": "python",
   "name": "python3"
  },
  "language_info": {
   "codemirror_mode": {
    "name": "ipython",
    "version": 3
   },
   "file_extension": ".py",
   "mimetype": "text/x-python",
   "name": "python",
   "nbconvert_exporter": "python",
   "pygments_lexer": "ipython3",
   "version": "3.7.3"
  }
 },
 "nbformat": 4,
 "nbformat_minor": 2
}
