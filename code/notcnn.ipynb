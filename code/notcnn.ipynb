{
 "cells": [
  {
   "cell_type": "code",
   "execution_count": 1,
   "metadata": {},
   "outputs": [],
   "source": [
    "import math\n",
    "import sys"
   ]
  },
  {
   "cell_type": "code",
   "execution_count": 2,
   "metadata": {},
   "outputs": [],
   "source": [
    "input_size=11\n",
    "filter_size=3\n",
    "pool_size=3\n",
    "poolout_size=3"
   ]
  },
  {
   "cell_type": "code",
   "execution_count": 3,
   "metadata": {},
   "outputs": [],
   "source": [
    "def getdata(e):\n",
    "    n_of_e=0\n",
    "    for line in sys.stdin:\n",
    "        e[n_of_e]=[float(num) for num in line.split()]\n",
    "        n_of_e+=1\n",
    "    return"
   ]
  },
  {
   "cell_type": "code",
   "execution_count": null,
   "metadata": {},
   "outputs": [],
   "source": [
    "def conv(filter,e,convout):\n",
    "    startpoint=math.floor(filter_size/2)\n",
    "    endpoint=input_size-startpoint\n",
    "    for i in range(startpoint,endpoint):\n",
    "        for j in range(startpoint,endpoint):\n",
    "            convout[i][j]=calcconv(filter,e,i,j)\n",
    "    return\n",
    "    "
   ]
  },
  {
   "cell_type": "code",
   "execution_count": null,
   "metadata": {},
   "outputs": [],
   "source": [
    "def calcconv(filter,e,i,j):\n",
    "    r=math.floor(file_size/2)\n",
    "    sum=0.0\n",
    "    for m in range(filter_size):\n",
    "        for n in range(filter_size):\n",
    "            sum+=e[i-r+m][j-r+n]*filter[m][n]\n",
    "    return sum"
   ]
  },
  {
   "cell_type": "code",
   "execution_count": null,
   "metadata": {},
   "outputs": [],
   "source": [
    "def pool(convout,poolout):\n",
    "    for i in range(poolout_size):\n",
    "        for j in range(poolout_size):\n",
    "            poolout_size[i][j]=maxpooling(convout,i,j)\n",
    "    return"
   ]
  },
  {
   "cell_type": "code",
   "execution_count": null,
   "metadata": {},
   "outputs": [],
   "source": [
    "def maxpooling(convout,i,j):\n",
    "    h=math.floor(pool_size/2)\n",
    "    max=convout[i*poolout_size+1+h][j*poolout_size+1+h]\n",
    "    mstart=poolout_size*i+1\n",
    "    mend=poolout_size*i+1+pool_size-h+1\n",
    "    nstart=poolout_size*j+1\n",
    "    nend=poolout_size*j+1+pool_size-h+1\n",
    "    \n",
    "    for m in range(mstart,mend):\n",
    "        for n in range(nstart,nend):\n",
    "            if max<convout[m][n]:\n",
    "                max=convout[m][n]\n",
    "    return max"
   ]
  },
  {
   "cell_type": "code",
   "execution_count": null,
   "metadata": {},
   "outputs": [],
   "source": [
    "#filter=[[0,0,0],[1,1,1],[0,0,0]]\n",
    "filter=[[0,1,0],[0,1,0],[0,1,0]]\n",
    "e=[[0.0 for i in range(input_size)]\n",
    "  for j in range(input_size)]\n",
    "convout=[[0.0 for i in range(input_size)]\n",
    "  for j in range(input_size)]\n",
    "poolout=[[0.0 for i in range(poolout_size)]\n",
    "  for j in range(poolout_size)]"
   ]
  },
  {
   "cell_type": "code",
   "execution_count": null,
   "metadata": {},
   "outputs": [],
   "source": [
    "getdata(e)\n",
    "\n",
    "convout(filter,e,convout)\n",
    "\n",
    "for i in convout:\n",
    "    print(i)\n",
    "\n",
    "pool(convout,poolout)\n",
    "\n",
    "for i in poolout:\n",
    "    print(i)"
   ]
  },
  {
   "cell_type": "code",
   "execution_count": null,
   "metadata": {},
   "outputs": [],
   "source": []
  }
 ],
 "metadata": {
  "kernelspec": {
   "display_name": "Python 3",
   "language": "python",
   "name": "python3"
  },
  "language_info": {
   "codemirror_mode": {
    "name": "ipython",
    "version": 3
   },
   "file_extension": ".py",
   "mimetype": "text/x-python",
   "name": "python",
   "nbconvert_exporter": "python",
   "pygments_lexer": "ipython3",
   "version": "3.7.3"
  }
 },
 "nbformat": 4,
 "nbformat_minor": 2
}
