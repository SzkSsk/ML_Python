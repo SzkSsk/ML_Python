{
 "cells": [
  {
   "cell_type": "code",
   "execution_count": 15,
   "metadata": {},
   "outputs": [],
   "source": [
    "from janome.analyzer import Analyzer\n",
    "from janome.tokenfilter import *\n",
    "\n",
    "import re\n",
    "import neologdn\n",
    "import emoji\n",
    "\n",
    "import collections\n",
    "import unicodedata\n",
    "import string"
   ]
  },
  {
   "cell_type": "code",
   "execution_count": 16,
   "metadata": {},
   "outputs": [],
   "source": [
    "def stop_word(text):\n",
    "\n",
    "    stop_words = [ 'てる', 'いる', 'なる', 'れる', 'する', 'ある', 'こと', 'これ', 'さん', 'して', \\\n",
    "             'くれる', 'やる', 'くださる', 'そう', 'せる', 'した',  '思う',  \\\n",
    "             'それ', 'ここ', 'ちゃん', 'くん', 'て','に','を','は','の', 'が', 'と', 'た', 'し', 'で', \\\n",
    "             'ない', 'も', 'な', 'い', 'か', 'ので', 'よう', 'ん', 'みたい','の','私','自分','たくさん',\\\n",
    "             'ん','もの','こと']\n",
    "\n",
    "    word_list = []\n",
    "    for i in text:\n",
    "        if i not in stop_words:\n",
    "            word_list.append(i)\n",
    "    return word_list"
   ]
  },
  {
   "cell_type": "code",
   "execution_count": 25,
   "metadata": {},
   "outputs": [],
   "source": [
    "def wakati(text,word_list):\n",
    "    a = Analyzer(token_filters=[CompoundNounFilter()])\n",
    "    for token in a.analyze(text):\n",
    "        if token.part_of_speech.split(',')[0] in ['名詞','形容詞','形容動詞']:\n",
    "#     感情分析ではこっちを使用\n",
    "#        if token.part_of_speech.split(',')[0] in ['名詞','形容詞','形容動詞','動詞']:\n",
    "#     word2vecのモデル作成するときはこっちを使用\n",
    "#        if token.part_of_speech.split(',')[0] in ['名詞']:\n",
    "            word_list.append(token.base_form)\n",
    "    return \" \".join(word_list)"
   ]
  },
  {
   "cell_type": "code",
   "execution_count": 26,
   "metadata": {},
   "outputs": [],
   "source": [
    "def cleansing(text):  \n",
    "    text = re.sub(r'https?://[\\w/:%#\\$&\\?\\(\\)~\\.=\\+\\-]+', '', text)\n",
    "    text = re.sub(r'#', '', text)\n",
    "    text = re.sub(r'\\n', '', text)\n",
    "    text = neologdn.normalize(text)\n",
    "    text = ''.join(c for c in text if c not in emoji.UNICODE_EMOJI)\n",
    "    text = unicodedata.normalize(\"NFKC\", text) \n",
    "    table = str.maketrans(\"\", \"\", string.punctuation  + \"「」、。・\")\n",
    "    text = text.translate(table)\n",
    "    return text"
   ]
  },
  {
   "cell_type": "code",
   "execution_count": 27,
   "metadata": {},
   "outputs": [],
   "source": [
    "def main():\n",
    "    text_file = 'ayane.txt'\n",
    "    with open(text_file, encoding='utf-8') as f:\n",
    "        s = f.read()\n",
    "    s_after_cleansing = cleansing(s)\n",
    "    word_list = []\n",
    "    wakati(s_after_cleansing,word_list)\n",
    "    s_after_wakati = \" \".join(word_list)\n",
    "    s_after_rmstop = stop_word(word_list)\n",
    "#     ベクトル化用にテキストファイルで保存\n",
    "    with open('名詞＿形容詞＿形容動詞.txt', 'w', encoding='utf-8') as f:\n",
    "        f.write(s_after_wakati)"
   ]
  },
  {
   "cell_type": "code",
   "execution_count": 28,
   "metadata": {},
   "outputs": [],
   "source": [
    "if __name__ == '__main__':\n",
    "    main()"
   ]
  },
  {
   "cell_type": "code",
   "execution_count": null,
   "metadata": {},
   "outputs": [],
   "source": []
  }
 ],
 "metadata": {
  "kernelspec": {
   "display_name": "Python 3",
   "language": "python",
   "name": "python3"
  },
  "language_info": {
   "codemirror_mode": {
    "name": "ipython",
    "version": 3
   },
   "file_extension": ".py",
   "mimetype": "text/x-python",
   "name": "python",
   "nbconvert_exporter": "python",
   "pygments_lexer": "ipython3",
   "version": "3.7.4"
  }
 },
 "nbformat": 4,
 "nbformat_minor": 4
}
