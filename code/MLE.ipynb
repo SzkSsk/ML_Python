{
 "cells": [
  {
   "cell_type": "code",
   "execution_count": 9,
   "metadata": {},
   "outputs": [
    {
     "name": "stdout",
     "output_type": "stream",
     "text": [
      "variance explained (MLE): 0.9993393121803179\n",
      "variance explained (LSE): 0.9993941934649424\n"
     ]
    },
    {
     "data": {
      "text/plain": [
       "[<matplotlib.lines.Line2D at 0x1a25219390>]"
      ]
     },
     "execution_count": 9,
     "metadata": {},
     "output_type": "execute_result"
    },
    {
     "data": {
      "image/png": "[encoded data removed]",
      "text/plain": [
       "<Figure size 432x288 with 1 Axes>"
      ]
     },
     "metadata": {
      "needs_background": "light"
     },
     "output_type": "display_data"
    }
   ],
   "source": [
    "# -*- coding: utf-8 -*-\n",
    "\n",
    "# import libraries\n",
    "import numpy as np\n",
    "import matplotlib.pyplot as plt\n",
    "import seaborn as sns\n",
    "from scipy import optimize\n",
    "\n",
    "#最小二乗法\n",
    "# model for performance ========\n",
    "def probabilityCorrect(x, signal):\n",
    "    # x: model parameters\n",
    "    # s: signal strength\n",
    "\n",
    "    # probability of correct \n",
    "    return 0.5 + (0.5 - x[0])*(1 - np.exp(-(signal/x[1])**x[2]))\n",
    "\n",
    "def cost_MLE(x, signal, performance, ntr):       \n",
    "    # compute cost\n",
    "    c = 0\n",
    "    for n in np.arange(len(ntr)):\n",
    "        # model output \n",
    "        p = probabilityCorrect(x, signal[n])\n",
    "\n",
    "        # cost as the negative likelihood\n",
    "        if 0 < p <= 1:\n",
    "            c += -ntr[n]*(performance[n]*np.log(p) + (1 - performance[n])*np.log(1 - p))\n",
    "\n",
    "    return c \n",
    "\n",
    "#最尤推定\n",
    "def cost_LSE(x, signal, performance, ntr):       \n",
    "    # compute cost\n",
    "    c = 0\n",
    "    for n in np.arange(len(ntr)):\n",
    "        # model output \n",
    "        p = probabilityCorrect(x, signal[n])\n",
    "\n",
    "        # cost as the summed squared error\n",
    "        c += ntr[n]*(performance[n] - p)**2\n",
    "\n",
    "    return c \n",
    "\n",
    "# signal strength\n",
    "signal = [0, 0.1, 0.2, 0.4, 0.8]\n",
    "\n",
    "# performance\n",
    "performance = [0.5, 0.73, 0.84, 0.92, 0.98]\n",
    "\n",
    "# number of trials\n",
    "ntr = [50, 45, 40, 35, 30]\n",
    "\n",
    "# initial guess and boundary\n",
    "x0 = [0, 0.2, 1]\n",
    "bound = [(0, None),(0.0001, None),(0,None)]\n",
    "\n",
    "# maximum likelihood\n",
    "params_MLE = optimize.minimize(cost_MLE,x0,args=(signal,performance,ntr,),method='l-bfgs-b',\\\n",
    "                        jac=None, bounds=bound, tol=None, callback=None,\\\n",
    "                        options={'disp': None, 'maxls': 20, 'iprint': -1,\\\n",
    "                                 'gtol': 1e-05, 'eps': 1e-08, 'maxiter': 15000,\\\n",
    "                                 'ftol': 2.220446049250313e-09, 'maxcor': 10,\\\n",
    "                                 'maxfun': 15000})\n",
    "\n",
    "# least squared error\n",
    "params_LSE = optimize.minimize(cost_LSE,x0,args=(signal,performance,ntr,),method='l-bfgs-b',\\\n",
    "                        jac=None, bounds=bound, tol=None, callback=None,\\\n",
    "                        options={'disp': None, 'maxls': 20, 'iprint': -1,\\\n",
    "                                 'gtol': 1e-05, 'eps': 1e-08, 'maxiter': 15000,\\\n",
    "                                 'ftol': 2.220446049250313e-09, 'maxcor': 10,\\\n",
    "                                 'maxfun': 15000})\n",
    "\n",
    "# compute variance explained\n",
    "fitted_acc_mle = np.zeros(len(signal))\n",
    "fitted_acc_lse = np.zeros(len(signal))\n",
    "for s in np.arange(len(signal)):\n",
    "    fitted_acc_mle[s] = probabilityCorrect(params_MLE.x,signal[s])\n",
    "    fitted_acc_lse[s] = probabilityCorrect(params_LSE.x,signal[s])\n",
    "\n",
    "varexp_mle = 1 - (np.var(fitted_acc_mle - performance)/np.var(performance))\n",
    "varexp_lse = 1 - (np.var(fitted_acc_lse - performance)/np.var(performance))\n",
    "\n",
    "print('variance explained (MLE): ' + str(varexp_mle))\n",
    "print('variance explained (LSE): ' + str(varexp_lse))    \n",
    "\n",
    "# visualize\n",
    "signals = np.linspace(0,0.8,100)\n",
    "acc_mle = np.zeros(100)\n",
    "acc_lse = np.zeros(100)\n",
    "\n",
    "for i in np.arange(100):\n",
    "    acc_mle[i] = probabilityCorrect(params_MLE.x,signals[i])\n",
    "    acc_lse[i] = probabilityCorrect(params_LSE.x,signals[i])\n",
    "\n",
    "fig = plt.figure()\n",
    "fig.suptitle('psychometric function')\n",
    "\n",
    "ax = fig.add_subplot(111)\n",
    "\n",
    "ax.set_xlabel('signal strength')\n",
    "ax.set_ylabel('performance')    \n",
    "plt.plot(signal, performance, 'ko')\n",
    "plt.plot(signals, acc_mle, '-b')#最尤推定は青\n",
    "plt.plot(signals, acc_lse, '-r')#最小二乗法は赤"
   ]
  },
  {
   "cell_type": "code",
   "execution_count": null,
   "metadata": {},
   "outputs": [],
   "source": []
  }
 ],
 "metadata": {
  "kernelspec": {
   "display_name": "Python 3",
   "language": "python",
   "name": "python3"
  },
  "language_info": {
   "codemirror_mode": {
    "name": "ipython",
    "version": 3
   },
   "file_extension": ".py",
   "mimetype": "text/x-python",
   "name": "python",
   "nbconvert_exporter": "python",
   "pygments_lexer": "ipython3",
   "version": "3.7.3"
  }
 },
 "nbformat": 4,
 "nbformat_minor": 2
}
