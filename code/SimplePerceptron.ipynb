{
 "cells": [
  {
   "cell_type": "code",
   "execution_count": null,
   "metadata": {},
   "outputs": [],
   "source": [
    "import numpy as np\n",
    "import pandas as pd\n",
    "import matplotlib.pyplot as plt\n",
    "np.random.seed(64)"
   ]
  },
  {
   "cell_type": "code",
   "execution_count": null,
   "metadata": {},
   "outputs": [],
   "source": [
    "alpha = 0.01"
   ]
  },
  {
   "cell_type": "code",
   "execution_count": null,
   "metadata": {},
   "outputs": [],
   "source": [
    "# activation fucntion\n",
    "def step(x):\n",
    "    if x < 0:\n",
    "        return 0\n",
    "    else:\n",
    "        return 1"
   ]
  },
  {
   "cell_type": "code",
   "execution_count": null,
   "metadata": {},
   "outputs": [],
   "source": [
    "# forward network\n",
    "def forward(x, w):\n",
    "    # Calc weighted sum\n",
    "    out = np.sum(w[:-1]*x) + w[-1]\n",
    " \n",
    "    # activate function\n",
    "    y = step(out)\n",
    "    \n",
    "    return y"
   ]
  },
  {
   "cell_type": "code",
   "execution_count": null,
   "metadata": {},
   "outputs": [],
   "source": [
    "# Learning\n",
    "def train(x, w, y, t):\n",
    "    # update weights\n",
    "    for i in range(len(w)-1):\n",
    "        w[i] += alpha * (t - y) * x[i]\n",
    "    \n",
    "    w[-1] += alpha * (t -y)"
   ]
  },
  {
   "cell_type": "code",
   "execution_count": null,
   "metadata": {},
   "outputs": [],
   "source": [
    "# Evaluate\n",
    "def mean_squared_error(y, t):\n",
    "    return 0.5 * np.sum((y-t)**2)"
   ]
  },
  {
   "cell_type": "code",
   "execution_count": null,
   "metadata": {},
   "outputs": [],
   "source": [
    "if __name__ == '__main__':\n",
    "    \n",
    "    data = np.array([[0, 0], [0, 1], [1, 0], [1, 1]])\n",
    "    w = np.random.rand(3) # w[-1] is bias weight\n",
    "    t_AND = np.array([0, 0, 0, 1])\n",
    "    \n",
    "    err = []\n",
    "    for epoch in range(100):\n",
    "        # training\n",
    "        y_pred = []\n",
    "        for i in range(len(data)):\n",
    "            y = forward(data[i], w)\n",
    "            train(data[i], w, y, t_AND[i])\n",
    "            y_pred.append(y)\n",
    "        \n",
    "        err.append(mean_squared_error(np.array(y_pred), t_AND))\n",
    "        print('Epoch{}:, Pred:{}, T:{}'.format(epoch, y_pred, t_AND)) "
   ]
  },
  {
   "cell_type": "code",
   "execution_count": null,
   "metadata": {},
   "outputs": [],
   "source": [
    "    # MSE graph\n",
    "    plt.plot(err)\n",
    "    plt.xlabel('epoch')\n",
    "    plt.ylabel('MSE')\n",
    "    plt.show()"
   ]
  },
  {
   "cell_type": "code",
   "execution_count": null,
   "metadata": {},
   "outputs": [],
   "source": [
    "if __name__ == '__main__':\n",
    "    \n",
    "    data = np.array([[0, 0], [0, 1], [1, 0], [1, 1]])\n",
    "    w = np.random.rand(3) # w[-1] is bias weight\n",
    "    t_OR = np.array([0, 1, 1, 1])\n",
    "    \n",
    "    err = []\n",
    "    for epoch in range(100):\n",
    "        # training\n",
    "        y_pred = []\n",
    "        for i in range(len(data)):\n",
    "            y = forward(data[i], w)\n",
    "            train(data[i], w, y, t_OR[i])\n",
    "            y_pred.append(y)\n",
    "        \n",
    "        err.append(mean_squared_error(np.array(y_pred), t_OR))\n",
    "        print('Epoch{}:, Pred:{}, T:{}'.format(epoch, y_pred, t_OR)) "
   ]
  },
  {
   "cell_type": "code",
   "execution_count": null,
   "metadata": {},
   "outputs": [],
   "source": [
    "    # MSE graph\n",
    "    plt.plot(err)\n",
    "    plt.xlabel('epoch')\n",
    "    plt.ylabel('MSE')\n",
    "    plt.show()"
   ]
  },
  {
   "cell_type": "code",
   "execution_count": null,
   "metadata": {},
   "outputs": [],
   "source": [
    "if __name__ == '__main__':\n",
    "    \n",
    "    data = np.array([[0, 0], [0, 1], [1, 0], [1, 1]])\n",
    "    w = np.random.rand(3) # w[-1] is bias weight\n",
    "    t_NAND = np.array([1, 1, 1, 0])\n",
    "    \n",
    "    err = []\n",
    "    for epoch in range(100):\n",
    "        # training\n",
    "        y_pred = []\n",
    "        for i in range(len(data)):\n",
    "            y = forward(data[i], w)\n",
    "            train(data[i], w, y, t_NAND[i])\n",
    "            y_pred.append(y)\n",
    "        \n",
    "        err.append(mean_squared_error(np.array(y_pred), t_NAND))\n",
    "        print('Epoch{}:, Pred:{}, T:{}'.format(epoch, y_pred, t_NAND)) "
   ]
  },
  {
   "cell_type": "code",
   "execution_count": null,
   "metadata": {},
   "outputs": [],
   "source": [
    "    # MSE graph\n",
    "    plt.plot(err)\n",
    "    plt.xlabel('epoch')\n",
    "    plt.ylabel('MSE')\n",
    "    plt.show()"
   ]
  },
  {
   "cell_type": "code",
   "execution_count": null,
   "metadata": {},
   "outputs": [],
   "source": [
    "if __name__ == '__main__':\n",
    "    \n",
    "    data = np.array([[0, 0], [0, 1], [1, 0], [1, 1]])\n",
    "    w = np.random.rand(3) # w[-1] is bias weight\n",
    "    t_XOR = np.array([0, 1, 1, 0])\n",
    "    \n",
    "    err = []\n",
    "    for epoch in range(100):\n",
    "        # training\n",
    "        y_pred = []\n",
    "        for i in range(len(data)):\n",
    "             = forward(data[i], w)\n",
    "            train(data[i], w, y, t_NAND[i])\n",
    "            y_pred.append(y)\n",
    "        \n",
    "        err.append(mean_squared_error(np.array(y_pred), t_NAND))\n",
    "        print('Epoch{}:, Pred:{}, T:{}'.format(epoch, y_pred, t_NAND)) "
   ]
  },
  {
   "cell_type": "code",
   "execution_count": null,
   "metadata": {},
   "outputs": [],
   "source": []
  }
 ],
 "metadata": {
  "kernelspec": {
   "display_name": "Python 3",
   "language": "python",
   "name": "python3"
  },
  "language_info": {
   "codemirror_mode": {
    "name": "ipython",
    "version": 3
   },
   "file_extension": ".py",
   "mimetype": "text/x-python",
   "name": "python",
   "nbconvert_exporter": "python",
   "pygments_lexer": "ipython3",
   "version": "3.7.3"
  }
 },
 "nbformat": 4,
 "nbformat_minor": 2
}
