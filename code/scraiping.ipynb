{
 "cells": [
  {
   "cell_type": "code",
   "execution_count": 1,
   "metadata": {},
   "outputs": [],
   "source": [
    "from time import sleep\n",
    "from bs4 import BeautifulSoup\n",
    "from selenium import webdriver\n",
    "from selenium.webdriver.chrome.options import Options\n",
    "from selenium.webdriver.common.keys import Keys\n",
    "import codecs"
   ]
  },
  {
   "cell_type": "code",
   "execution_count": 2,
   "metadata": {},
   "outputs": [],
   "source": [
    "def main():\n",
    "    options = Options()\n",
    "    driver = webdriver.Chrome(executable_path=\"chromedriver.exe\", chrome_options=options)\n",
    "    url = \"http://blog.nogizaka46.com/ayane.suzuki/\"  \n",
    "    driver.get(url) \n",
    "    lines = []\n",
    "    #     １枚目取り出す\n",
    "    get(driver,lines)\n",
    "    click_tag = driver.find_elements_by_css_selector('#sheet > div:nth-child(1) > a:nth-child(12)')\n",
    "    click_tag[0].click()\n",
    "\n",
    "    #     2枚目以降取り出す\n",
    "    for i in range(10):\n",
    "        sleep(2)\n",
    "        click_tag = driver.find_elements_by_css_selector('#sheet > div:nth-child(1) > a:nth-child(13)')\n",
    "        click_tag[0].click()\n",
    "        get(driver,lines)\n",
    "\n",
    "    with open('ayane.txt', 'w',encoding=\"utf-8_sig\") as f:\n",
    "        for i in range(len(lines)):\n",
    "            f.write(lines[i])\n",
    "    driver.quit()"
   ]
  },
  {
   "cell_type": "code",
   "execution_count": 3,
   "metadata": {},
   "outputs": [],
   "source": [
    "# ブログ内容の取得\n",
    "def get(driver,lines):\n",
    "    sleep(1)\n",
    "    soup = BeautifulSoup(driver.page_source, \"html.parser\")\n",
    "    for element in soup.select('.entrybody'):\n",
    "        lines.append(element.text)\n",
    "    return lines\n"
   ]
  },
  {
   "cell_type": "code",
   "execution_count": 4,
   "metadata": {},
   "outputs": [
    {
     "name": "stderr",
     "output_type": "stream",
     "text": [
      "C:\\Users\\g031p122\\AppData\\Local\\Continuum\\anaconda3\\lib\\site-packages\\ipykernel_launcher.py:3: DeprecationWarning: use options instead of chrome_options\n",
      "  This is separate from the ipykernel package so we can avoid doing imports until\n"
     ]
    }
   ],
   "source": [
    "if __name__ == '__main__':\n",
    "    main()"
   ]
  },
  {
   "cell_type": "code",
   "execution_count": null,
   "metadata": {},
   "outputs": [],
   "source": []
  }
 ],
 "metadata": {
  "kernelspec": {
   "display_name": "Python 3",
   "language": "python",
   "name": "python3"
  },
  "language_info": {
   "codemirror_mode": {
    "name": "ipython",
    "version": 3
   },
   "file_extension": ".py",
   "mimetype": "text/x-python",
   "name": "python",
   "nbconvert_exporter": "python",
   "pygments_lexer": "ipython3",
   "version": "3.7.4"
  }
 },
 "nbformat": 4,
 "nbformat_minor": 4
}
